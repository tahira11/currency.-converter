{
  "nbformat": 4,
  "nbformat_minor": 0,
  "metadata": {
    "colab": {
      "provenance": [],
      "authorship_tag": "ABX9TyPAVLn/sK3iP2Z/HkF+5fgp",
      "include_colab_link": true
    },
    "kernelspec": {
      "name": "python3",
      "display_name": "Python 3"
    },
    "language_info": {
      "name": "python"
    }
  },
  "cells": [
    {
      "cell_type": "markdown",
      "metadata": {
        "id": "view-in-github",
        "colab_type": "text"
      },
      "source": [
        "<a href=\"https://colab.research.google.com/github/tahira11/currency.-converter/blob/main/currency_converter_py.ipynb\" target=\"_parent\"><img src=\"https://colab.research.google.com/assets/colab-badge.svg\" alt=\"Open In Colab\"/></a>"
      ]
    },
    {
      "cell_type": "code",
      "source": [],
      "metadata": {
        "id": "PdbRQDDFkkQG"
      },
      "execution_count": null,
      "outputs": []
    },
    {
      "cell_type": "code",
      "source": [
        "import subprocess\n",
        "import sys\n",
        "\n",
        "# Function to install a package internally\n",
        "def install_package(package):\n",
        "    subprocess.check_call([sys.executable, \"-m\", \"pip\", \"install\", package])\n",
        "\n",
        "# Install forex-python\n",
        "install_package(\"forex-python\")\n",
        "# Install Streamlit if you haven't\n",
        "# !pip install streamlit\n",
        "\n",
        "import streamlit as st\n",
        "from forex_python.converter import CurrencyRates\n",
        "\n",
        "# Create a CurrencyRates object from forex-python\n",
        "c = CurrencyRates()\n",
        "\n",
        "# Streamlit App Title\n",
        "st.title(\"💸 Currency Converter\")\n",
        "\n",
        "# App subtitle with emoji\n",
        "st.markdown(\"### Convert currencies easily with real-time rates 🌍💱\")\n",
        "\n",
        "# Sidebar configuration for user input\n",
        "st.sidebar.header(\"Currency Converter Settings\")\n",
        "\n",
        "# Input from user: Amount, From Currency, To Currency\n",
        "amount = st.sidebar.number_input(\"Enter amount\", min_value=0.0, value=100.0)\n",
        "from_currency = st.sidebar.text_input(\"From Currency (e.g., USD)\", value=\"USD\").upper()\n",
        "to_currency = st.sidebar.text_input(\"To Currency (e.g., EUR)\", value=\"EUR\").upper()\n",
        "\n",
        "# Currency conversion logic\n",
        "if st.sidebar.button(\"Convert\"):\n",
        "    try:\n",
        "        # Get the conversion rate\n",
        "        conversion_rate = c.get_rate(from_currency, to_currency)\n",
        "        converted_amount = conversion_rate * amount\n",
        "\n",
        "        # Displaying the result with proper formatting and emoji\n",
        "        st.success(f\"💱 {amount} {from_currency} = {converted_amount:.2f} {to_currency}\")\n",
        "        st.write(f\"Exchange Rate: 1 {from_currency} = {conversion_rate:.4f} {to_currency}\")\n",
        "\n",
        "    except Exception as e:\n",
        "        st.error(f\"Error: {str(e)}\")\n",
        "\n",
        "# Styling footer\n",
        "st.markdown(\"\"\"\n",
        "<style>\n",
        "footer {visibility: hidden;}\n",
        "footer:after {\n",
        "    content: 'Powered by Streamlit and forex-python | Stay updated with real-time currency rates 💼📈';\n",
        "    visibility: visible;\n",
        "    display: block;\n",
        "    text-align: center;\n",
        "    padding: 10px;\n",
        "    font-size: small;\n",
        "    color: #4CAF50;\n",
        "}\n",
        "</style>\n",
        "\"\"\", unsafe_allow_html=True)\n",
        "\n",
        "\n"
      ],
      "metadata": {
        "colab": {
          "base_uri": "https://localhost:8080/"
        },
        "id": "5iiSK1I4WUcv",
        "outputId": "f47fac79-cc8f-4f66-c013-7c7a3e1bcdcf"
      },
      "execution_count": null,
      "outputs": [
        {
          "output_type": "stream",
          "name": "stderr",
          "text": [
            "2024-10-16 18:29:35.031 Thread 'MainThread': missing ScriptRunContext! This warning can be ignored when running in bare mode.\n",
            "2024-10-16 18:29:35.034 Thread 'MainThread': missing ScriptRunContext! This warning can be ignored when running in bare mode.\n",
            "2024-10-16 18:29:35.041 Thread 'MainThread': missing ScriptRunContext! This warning can be ignored when running in bare mode.\n",
            "2024-10-16 18:29:35.043 Thread 'MainThread': missing ScriptRunContext! This warning can be ignored when running in bare mode.\n",
            "2024-10-16 18:29:35.046 Thread 'MainThread': missing ScriptRunContext! This warning can be ignored when running in bare mode.\n",
            "2024-10-16 18:29:35.048 Thread 'MainThread': missing ScriptRunContext! This warning can be ignored when running in bare mode.\n",
            "2024-10-16 18:29:35.052 Thread 'MainThread': missing ScriptRunContext! This warning can be ignored when running in bare mode.\n",
            "2024-10-16 18:29:35.057 Thread 'MainThread': missing ScriptRunContext! This warning can be ignored when running in bare mode.\n",
            "2024-10-16 18:29:35.058 Thread 'MainThread': missing ScriptRunContext! This warning can be ignored when running in bare mode.\n",
            "2024-10-16 18:29:35.060 Thread 'MainThread': missing ScriptRunContext! This warning can be ignored when running in bare mode.\n",
            "2024-10-16 18:29:35.063 Thread 'MainThread': missing ScriptRunContext! This warning can be ignored when running in bare mode.\n",
            "2024-10-16 18:29:35.065 Thread 'MainThread': missing ScriptRunContext! This warning can be ignored when running in bare mode.\n",
            "2024-10-16 18:29:35.068 Thread 'MainThread': missing ScriptRunContext! This warning can be ignored when running in bare mode.\n",
            "2024-10-16 18:29:35.070 Thread 'MainThread': missing ScriptRunContext! This warning can be ignored when running in bare mode.\n",
            "2024-10-16 18:29:35.072 Thread 'MainThread': missing ScriptRunContext! This warning can be ignored when running in bare mode.\n",
            "2024-10-16 18:29:35.075 Thread 'MainThread': missing ScriptRunContext! This warning can be ignored when running in bare mode.\n",
            "2024-10-16 18:29:35.078 Thread 'MainThread': missing ScriptRunContext! This warning can be ignored when running in bare mode.\n",
            "2024-10-16 18:29:35.081 Thread 'MainThread': missing ScriptRunContext! This warning can be ignored when running in bare mode.\n",
            "2024-10-16 18:29:35.084 Thread 'MainThread': missing ScriptRunContext! This warning can be ignored when running in bare mode.\n",
            "2024-10-16 18:29:35.086 Thread 'MainThread': missing ScriptRunContext! This warning can be ignored when running in bare mode.\n",
            "2024-10-16 18:29:35.089 Thread 'MainThread': missing ScriptRunContext! This warning can be ignored when running in bare mode.\n",
            "2024-10-16 18:29:35.091 Thread 'MainThread': missing ScriptRunContext! This warning can be ignored when running in bare mode.\n",
            "2024-10-16 18:29:35.094 Thread 'MainThread': missing ScriptRunContext! This warning can be ignored when running in bare mode.\n",
            "2024-10-16 18:29:35.096 Thread 'MainThread': missing ScriptRunContext! This warning can be ignored when running in bare mode.\n",
            "2024-10-16 18:29:35.099 Thread 'MainThread': missing ScriptRunContext! This warning can be ignored when running in bare mode.\n",
            "2024-10-16 18:29:35.101 Thread 'MainThread': missing ScriptRunContext! This warning can be ignored when running in bare mode.\n",
            "2024-10-16 18:29:35.103 Thread 'MainThread': missing ScriptRunContext! This warning can be ignored when running in bare mode.\n",
            "2024-10-16 18:29:35.105 Thread 'MainThread': missing ScriptRunContext! This warning can be ignored when running in bare mode.\n",
            "2024-10-16 18:29:35.107 Thread 'MainThread': missing ScriptRunContext! This warning can be ignored when running in bare mode.\n",
            "2024-10-16 18:29:35.109 Thread 'MainThread': missing ScriptRunContext! This warning can be ignored when running in bare mode.\n",
            "2024-10-16 18:29:35.111 Thread 'MainThread': missing ScriptRunContext! This warning can be ignored when running in bare mode.\n"
          ]
        },
        {
          "output_type": "execute_result",
          "data": {
            "text/plain": [
              "DeltaGenerator()"
            ]
          },
          "metadata": {},
          "execution_count": 14
        }
      ]
    }
  ]
}